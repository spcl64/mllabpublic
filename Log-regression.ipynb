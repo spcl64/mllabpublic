{
 "cells": [
  {
   "cell_type": "markdown",
   "metadata": {
    "id": "PUF0uUoCqKxG"
   },
   "source": [
    "\n",
    "Digits Dataset\n",
    "Loading the Data (Digits Dataset)\n",
    "\n",
    "The digits dataset is one of datasets scikit-learn comes with that do not require the downloading of any file from some external website. The code below will load the digits dataset.\n"
   ]
  },
  {
   "cell_type": "code",
   "execution_count": 42,
   "metadata": {
    "executionInfo": {
     "elapsed": 1871,
     "status": "ok",
     "timestamp": 1642759766034,
     "user": {
      "displayName": "Nalini N",
      "photoUrl": "https://lh3.googleusercontent.com/a/default-user=s64",
      "userId": "00753117230077669334"
     },
     "user_tz": -330
    },
    "id": "mBKtcxa4qC7r"
   },
   "outputs": [],
   "source": [
    "\n",
    "\n",
    "%matplotlib inline\n",
    "from sklearn.datasets import load_digits\n",
    "digits = load_digits()\n",
    "\n"
   ]
  },
  {
   "cell_type": "markdown",
   "metadata": {
    "id": "nXOsJv3_qPSx"
   },
   "source": [
    "Now that you have the dataset loaded you can use the commands below"
   ]
  },
  {
   "cell_type": "code",
   "execution_count": 43,
   "metadata": {
    "colab": {
     "base_uri": "https://localhost:8080/"
    },
    "executionInfo": {
     "elapsed": 1244,
     "status": "ok",
     "timestamp": 1642759769596,
     "user": {
      "displayName": "Nalini N",
      "photoUrl": "https://lh3.googleusercontent.com/a/default-user=s64",
      "userId": "00753117230077669334"
     },
     "user_tz": -330
    },
    "id": "YPSNqorpqF9X",
    "outputId": "4ecf1591-45a0-456f-94cf-793c4fa810b9"
   },
   "outputs": [
    {
     "name": "stdout",
     "output_type": "stream",
     "text": [
      "Image Data Shape (1797, 64)\n",
      "Label Data Shape (1797,)\n"
     ]
    },
    {
     "data": {
      "text/plain": [
       "('Label Data Shape', (1797,))"
      ]
     },
     "execution_count": 43,
     "metadata": {},
     "output_type": "execute_result"
    }
   ],
   "source": [
    "# Print to show there are 1797 images (8 by 8 images for a dimensionality of 64)\n",
    "print(\"Image Data Shape\" , digits.data.shape)\n",
    "\n",
    "# Print to show there are 1797 labels (integers from 0-9)\n",
    "print(\"Label Data Shape\", digits.target.shape)\n",
    "\n",
    "('Image Data Shape', (1797, 64))\n",
    "('Label Data Shape', (1797,))\n",
    "\n"
   ]
  },
  {
   "cell_type": "markdown",
   "metadata": {
    "id": "zvbZz-cfqdBG"
   },
   "source": [
    "\n",
    "Showing the Images and Labels (Digits Dataset)"
   ]
  },
  {
   "cell_type": "code",
   "execution_count": 44,
   "metadata": {
    "colab": {
     "base_uri": "https://localhost:8080/",
     "height": 283
    },
    "executionInfo": {
     "elapsed": 24,
     "status": "ok",
     "timestamp": 1642759769598,
     "user": {
      "displayName": "Nalini N",
      "photoUrl": "https://lh3.googleusercontent.com/a/default-user=s64",
      "userId": "00753117230077669334"
     },
     "user_tz": -330
    },
    "id": "lnPHHoqxqmZk",
    "outputId": "42f71581-cbb7-4645-d2b3-a4f3eb205e61"
   },
   "outputs": [
    {
     "data": {
      "image/png": "[encoded data removed]",
      "text/plain": [
       "<Figure size 1440x288 with 5 Axes>"
      ]
     },
     "metadata": {
      "needs_background": "light"
     },
     "output_type": "display_data"
    }
   ],
   "source": [
    "import numpy as np \n",
    "import matplotlib.pyplot as plt\n",
    "\n",
    "plt.figure(figsize=(20,4))\n",
    "for index, (image, label) in enumerate(zip(digits.data[0:5], digits.target[0:5])):\n",
    "    plt.subplot(1, 5, index + 1)\n",
    "    plt.imshow(np.reshape(image, (8,8)), cmap=plt.cm.gray)\n",
    "    plt.title('Training: %i\\n' % label, fontsize = 20)"
   ]
  },
  {
   "cell_type": "markdown",
   "metadata": {
    "id": "0iclHhdvqs55"
   },
   "source": [
    "\n",
    "Splitting Data into Training and Test Sets (Digits Dataset)"
   ]
  },
  {
   "cell_type": "code",
   "execution_count": 45,
   "metadata": {
    "executionInfo": {
     "elapsed": 20,
     "status": "ok",
     "timestamp": 1642759769599,
     "user": {
      "displayName": "Nalini N",
      "photoUrl": "https://lh3.googleusercontent.com/a/default-user=s64",
      "userId": "00753117230077669334"
     },
     "user_tz": -330
    },
    "id": "x8CGp5T_qt-m"
   },
   "outputs": [],
   "source": [
    "\n",
    "\n",
    "from sklearn.model_selection import train_test_split\n",
    "x_train, x_test, y_train, y_test = train_test_split(digits.data, digits.target, test_size=0.25, random_state=50)\n",
    "\n"
   ]
  },
  {
   "cell_type": "markdown",
   "metadata": {
    "id": "191jGLpztPQC"
   },
   "source": [
    "\n",
    "Scikit-learn 4-Step Modeling Pattern (Digits Dataset)\n",
    "\n",
    "Step 1. Import the model you want to use\n",
    "\n",
    "In sklearn, all machine learning models are implemented as Python classes"
   ]
  },
  {
   "cell_type": "code",
   "execution_count": 46,
   "metadata": {
    "executionInfo": {
     "elapsed": 21,
     "status": "ok",
     "timestamp": 1642759769601,
     "user": {
      "displayName": "Nalini N",
      "photoUrl": "https://lh3.googleusercontent.com/a/default-user=s64",
      "userId": "00753117230077669334"
     },
     "user_tz": -330
    },
    "id": "-HzHAkaFrAqh"
   },
   "outputs": [],
   "source": [
    "from sklearn.linear_model import LogisticRegression"
   ]
  },
  {
   "cell_type": "code",
   "execution_count": 47,
   "metadata": {
    "executionInfo": {
     "elapsed": 22,
     "status": "ok",
     "timestamp": 1642759769603,
     "user": {
      "displayName": "Nalini N",
      "photoUrl": "https://lh3.googleusercontent.com/a/default-user=s64",
      "userId": "00753117230077669334"
     },
     "user_tz": -330
    },
    "id": "Wutk-FURrETx"
   },
   "outputs": [],
   "source": [
    "\n",
    "\n",
    "#Step 2. Make an instance of the Model\n"
   ]
  },
  {
   "cell_type": "code",
   "execution_count": 48,
   "metadata": {
    "executionInfo": {
     "elapsed": 22,
     "status": "ok",
     "timestamp": 1642759769604,
     "user": {
      "displayName": "Nalini N",
      "photoUrl": "https://lh3.googleusercontent.com/a/default-user=s64",
      "userId": "00753117230077669334"
     },
     "user_tz": -330
    },
    "id": "ZHapQtLBrG5e"
   },
   "outputs": [],
   "source": [
    "logisticRegr = LogisticRegression()"
   ]
  },
  {
   "cell_type": "markdown",
   "metadata": {
    "id": "34o5Q6cwrY8Y"
   },
   "source": [
    "\n",
    "\n",
    "Step 3. Training the model on the data, storing the information learned from the data\n",
    "\n",
    "Model is learning the relationship between x (digits) and y (labels)\n"
   ]
  },
  {
   "cell_type": "code",
   "execution_count": 49,
   "metadata": {
    "colab": {
     "base_uri": "https://localhost:8080/"
    },
    "executionInfo": {
     "elapsed": 1309,
     "status": "ok",
     "timestamp": 1642759770892,
     "user": {
      "displayName": "Nalini N",
      "photoUrl": "https://lh3.googleusercontent.com/a/default-user=s64",
      "userId": "00753117230077669334"
     },
     "user_tz": -330
    },
    "id": "sT-gqoaErjvB",
    "outputId": "273dd512-36c0-4617-b772-4aa715a41884"
   },
   "outputs": [
    {
     "name": "stderr",
     "output_type": "stream",
     "text": [
      "/usr/local/lib/python3.7/dist-packages/sklearn/linear_model/_logistic.py:818: ConvergenceWarning: lbfgs failed to converge (status=1):\n",
      "STOP: TOTAL NO. of ITERATIONS REACHED LIMIT.\n",
      "\n",
      "Increase the number of iterations (max_iter) or scale the data as shown in:\n",
      "    https://scikit-learn.org/stable/modules/preprocessing.html\n",
      "Please also refer to the documentation for alternative solver options:\n",
      "    https://scikit-learn.org/stable/modules/linear_model.html#logistic-regression\n",
      "  extra_warning_msg=_LOGISTIC_SOLVER_CONVERGENCE_MSG,\n"
     ]
    },
    {
     "data": {
      "text/plain": [
       "LogisticRegression()"
      ]
     },
     "execution_count": 49,
     "metadata": {},
     "output_type": "execute_result"
    }
   ],
   "source": [
    "logisticRegr.fit(x_train, y_train)"
   ]
  },
  {
   "cell_type": "markdown",
   "metadata": {
    "id": "FK7EgaWprrST"
   },
   "source": [
    "\n",
    "\n",
    "Step 4. Predict the labels of new data (new images)\n",
    "\n",
    "Uses the information the model learned during the model training process\n"
   ]
  },
  {
   "cell_type": "code",
   "execution_count": 50,
   "metadata": {
    "colab": {
     "base_uri": "https://localhost:8080/"
    },
    "executionInfo": {
     "elapsed": 38,
     "status": "ok",
     "timestamp": 1642759770893,
     "user": {
      "displayName": "Nalini N",
      "photoUrl": "https://lh3.googleusercontent.com/a/default-user=s64",
      "userId": "00753117230077669334"
     },
     "user_tz": -330
    },
    "id": "-1Zp9_F_rgUd",
    "outputId": "6b5c109f-da18-4e15-cc2c-830ac4cc3406"
   },
   "outputs": [
    {
     "data": {
      "text/plain": [
       "array([8])"
      ]
     },
     "execution_count": 50,
     "metadata": {},
     "output_type": "execute_result"
    }
   ],
   "source": [
    "\n",
    "# Returns a NumPy Array\n",
    "# Predict for One Observation (image)\n",
    "logisticRegr.predict(x_test[0].reshape(1,-1))\n",
    "\n"
   ]
  },
  {
   "cell_type": "code",
   "execution_count": 51,
   "metadata": {
    "colab": {
     "base_uri": "https://localhost:8080/"
    },
    "executionInfo": {
     "elapsed": 34,
     "status": "ok",
     "timestamp": 1642759770895,
     "user": {
      "displayName": "Nalini N",
      "photoUrl": "https://lh3.googleusercontent.com/a/default-user=s64",
      "userId": "00753117230077669334"
     },
     "user_tz": -330
    },
    "id": "CjiGQpE_rvth",
    "outputId": "b8bcb604-8330-4a21-95fc-cf0acda61dd6"
   },
   "outputs": [
    {
     "data": {
      "text/plain": [
       "array([8, 3, 7, 6, 2, 0, 4, 1, 9, 7])"
      ]
     },
     "execution_count": 51,
     "metadata": {},
     "output_type": "execute_result"
    }
   ],
   "source": [
    "# Predict for Multiple Observations (images) at Once\n",
    "logisticRegr.predict(x_test[0:10])"
   ]
  },
  {
   "cell_type": "code",
   "execution_count": 52,
   "metadata": {
    "executionInfo": {
     "elapsed": 31,
     "status": "ok",
     "timestamp": 1642759770896,
     "user": {
      "displayName": "Nalini N",
      "photoUrl": "https://lh3.googleusercontent.com/a/default-user=s64",
      "userId": "00753117230077669334"
     },
     "user_tz": -330
    },
    "id": "vnmjREbArzIc"
   },
   "outputs": [],
   "source": [
    "\n",
    "\n",
    "# Make predictions on entire test data\n",
    "predictions = logisticRegr.predict(x_test)\n",
    "\n"
   ]
  },
  {
   "cell_type": "markdown",
   "metadata": {
    "id": "3Mpn2lwrsK8X"
   },
   "source": [
    "\n",
    "Measuring Model Performance (Digits Dataset)\n",
    "\n",
    "While there are other ways of measuring model performance, we are going to keep this simple and use accuracy as our metric. To do this are going to see how the model performs on the new data (test set)\n",
    "\n",
    "accuracy is defined as:\n",
    "\n",
    "(fraction of correct predictions): correct predictions / total number of data points\n"
   ]
  },
  {
   "cell_type": "code",
   "execution_count": 53,
   "metadata": {
    "colab": {
     "base_uri": "https://localhost:8080/"
    },
    "executionInfo": {
     "elapsed": 29,
     "status": "ok",
     "timestamp": 1642759770897,
     "user": {
      "displayName": "Nalini N",
      "photoUrl": "https://lh3.googleusercontent.com/a/default-user=s64",
      "userId": "00753117230077669334"
     },
     "user_tz": -330
    },
    "id": "7dak3OBqsT-t",
    "outputId": "37bc741f-e7d4-4360-c5ed-1c873cda2933"
   },
   "outputs": [
    {
     "name": "stdout",
     "output_type": "stream",
     "text": [
      "0.96\n"
     ]
    }
   ],
   "source": [
    "\n",
    "\n",
    "# Use score method to get accuracy of model\n",
    "score = logisticRegr.score(x_test, y_test)\n",
    "print(score)\n",
    "\n"
   ]
  },
  {
   "cell_type": "markdown",
   "metadata": {
    "id": "qiIbEtPQsbFM"
   },
   "source": [
    "\n",
    "Confusion Matrix (Digits Dataset)\n",
    "\n",
    "A confusion matrix is a table that is often used to describe the performance of a classification model (or \"classifier\") on a set of test data for which the true values are known. In this section,two python packages (Seaborn and Matplotlib) for making confusion matrixes.\n"
   ]
  },
  {
   "cell_type": "code",
   "execution_count": 54,
   "metadata": {
    "executionInfo": {
     "elapsed": 26,
     "status": "ok",
     "timestamp": 1642759770898,
     "user": {
      "displayName": "Nalini N",
      "photoUrl": "https://lh3.googleusercontent.com/a/default-user=s64",
      "userId": "00753117230077669334"
     },
     "user_tz": -330
    },
    "id": "vrNqQ0qXsdkJ"
   },
   "outputs": [],
   "source": [
    "import numpy as np \n",
    "\n",
    "import seaborn as sns\n",
    "from sklearn import metrics"
   ]
  },
  {
   "cell_type": "markdown",
   "metadata": {
    "id": "wrBmBR_Ssf6F"
   },
   "source": [
    "Method 1 (Seaborn)"
   ]
  },
  {
   "cell_type": "code",
   "execution_count": 55,
   "metadata": {
    "executionInfo": {
     "elapsed": 27,
     "status": "ok",
     "timestamp": 1642759770900,
     "user": {
      "displayName": "Nalini N",
      "photoUrl": "https://lh3.googleusercontent.com/a/default-user=s64",
      "userId": "00753117230077669334"
     },
     "user_tz": -330
    },
    "id": "DPa1SCczsg1d"
   },
   "outputs": [],
   "source": [
    "cm = metrics.confusion_matrix(y_test, predictions)"
   ]
  },
  {
   "cell_type": "code",
   "execution_count": 56,
   "metadata": {
    "colab": {
     "base_uri": "https://localhost:8080/",
     "height": 526
    },
    "executionInfo": {
     "elapsed": 28,
     "status": "ok",
     "timestamp": 1642759770901,
     "user": {
      "displayName": "Nalini N",
      "photoUrl": "https://lh3.googleusercontent.com/a/default-user=s64",
      "userId": "00753117230077669334"
     },
     "user_tz": -330
    },
    "id": "D2KH_Zctsl8Y",
    "outputId": "9cf35474-8066-4420-a245-49848ca3df2d"
   },
   "outputs": [
    {
     "data": {
      "image/png": "[encoded data removed]",
      "text/plain": [
       "<Figure size 648x648 with 2 Axes>"
      ]
     },
     "metadata": {
      "needs_background": "light"
     },
     "output_type": "display_data"
    }
   ],
   "source": [
    "\n",
    "\n",
    "plt.figure(figsize=(9,9))\n",
    "sns.heatmap(cm, annot=True, fmt=\".3f\", linewidths=.5, square = True, cmap = 'Blues_r');\n",
    "plt.ylabel('Actual label');\n",
    "plt.xlabel('Predicted label');\n",
    "all_sample_title = 'Accuracy Score: {0}'.format(score)\n",
    "plt.title(all_sample_title, size = 15);\n",
    "plt.savefig('toy_Digits_ConfusionSeabornCodementor.png')\n",
    "#plt.show();\n",
    "\n"
   ]
  },
  {
   "cell_type": "markdown",
   "metadata": {
    "id": "Ou-mr4owsptk"
   },
   "source": [
    "\n",
    "\n",
    "Method 2 (Matplotlib)\n",
    "\n",
    "matplotlib\n"
   ]
  },
  {
   "cell_type": "code",
   "execution_count": 57,
   "metadata": {
    "colab": {
     "base_uri": "https://localhost:8080/",
     "height": 657
    },
    "executionInfo": {
     "elapsed": 1578,
     "status": "ok",
     "timestamp": 1642759772456,
     "user": {
      "displayName": "Nalini N",
      "photoUrl": "https://lh3.googleusercontent.com/a/default-user=s64",
      "userId": "00753117230077669334"
     },
     "user_tz": -330
    },
    "id": "4EBr3RpEzaM2",
    "outputId": "9c22ee47-e290-48ff-a952-2bb1f416069a"
   },
   "outputs": [
    {
     "data": {
      "image/png": "[encoded data removed]",
      "text/plain": [
       "<Figure size 648x648 with 2 Axes>"
      ]
     },
     "metadata": {
      "needs_background": "light"
     },
     "output_type": "display_data"
    }
   ],
   "source": [
    "cm = metrics.confusion_matrix(y_test, predictions)\n",
    "plt.figure(figsize=(9,9))\n",
    "plt.imshow(cm, interpolation='nearest', cmap='Pastel1')\n",
    "plt.title('Confusion matrix', size = 15)\n",
    "plt.colorbar()\n",
    "tick_marks = np.arange(10)\n",
    "plt.xticks(tick_marks, [\"0\", \"1\", \"2\", \"3\", \"4\", \"5\", \"6\", \"7\", \"8\", \"9\"], rotation=45, size = 10)\n",
    "plt.yticks(tick_marks, [\"0\", \"1\", \"2\", \"3\", \"4\", \"5\", \"6\", \"7\", \"8\", \"9\"], size = 10)\n",
    "plt.tight_layout()\n",
    "plt.ylabel('Actual label', size = 15)\n",
    "plt.xlabel('Predicted label', size = 15)\n",
    "width, height = cm.shape\n",
    "\n",
    "for x in range(width):\n",
    "    for y in range(height):\n",
    "        plt.annotate(str(cm[x][y]), xy=(y, x), \n",
    "                    horizontalalignment='center',\n",
    "                    verticalalignment='center')\n",
    "plt.savefig('toy_Digits_ConfusionMatplotlibCodementor.png')\n",
    "#plt.show()"
   ]
  },
  {
   "cell_type": "code",
   "execution_count": 57,
   "metadata": {
    "executionInfo": {
     "elapsed": 31,
     "status": "ok",
     "timestamp": 1642759772458,
     "user": {
      "displayName": "Nalini N",
      "photoUrl": "https://lh3.googleusercontent.com/a/default-user=s64",
      "userId": "00753117230077669334"
     },
     "user_tz": -330
    },
    "id": "hON4aIP-ueAM"
   },
   "outputs": [],
   "source": []
  }
 ],
 "metadata": {
  "colab": {
   "authorship_tag": "ABX9TyMIAikzc8xTw+aLrl/iUhqU",
   "collapsed_sections": [],
   "name": "Log-regression.ipynb",
   "provenance": []
  },
  "kernelspec": {
   "display_name": "Python 3 (ipykernel)",
   "language": "python",
   "name": "python3"
  },
  "language_info": {
   "codemirror_mode": {
    "name": "ipython",
    "version": 3
   },
   "file_extension": ".py",
   "mimetype": "text/x-python",
   "name": "python",
   "nbconvert_exporter": "python",
   "pygments_lexer": "ipython3",
   "version": "3.10.1"
  }
 },
 "nbformat": 4,
 "nbformat_minor": 1
}
